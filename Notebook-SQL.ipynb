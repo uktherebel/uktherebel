{
    "metadata": {
        "kernelspec": {
            "name": "SQL",
            "display_name": "SQL",
            "language": "sql"
        },
        "language_info": {
            "name": "sql",
            "version": ""
        }
    },
    "nbformat_minor": 2,
    "nbformat": 4,
    "cells": [
        {
            "cell_type": "markdown",
            "source": [
                "# SQL Joins"
            ],
            "metadata": {
                "azdata_cell_guid": "cb30ca7b-8af7-47a4-a6dc-7ad5860901bb"
            },
            "attachments": {}
        },
        {
            "cell_type": "markdown",
            "source": [
                "## **Creating Sample Tables**"
            ],
            "metadata": {
                "azdata_cell_guid": "eda8ed7e-e560-4ecb-86e6-4ef85d1e54b3"
            },
            "attachments": {}
        },
        {
            "cell_type": "code",
            "source": [
                "DROP TABLE IF EXISTS names;\n",
                "CREATE TEMP TABLE names AS\n",
                "WITH input_data (iid, first_name, title) AS (\n",
                " VALUES\n",
                " (1, 'Kate', 'Datacated Visualizer'),\n",
                " (2, 'Eric', 'Captain SQL'),\n",
                " (3, 'Danny', 'Data Wizard Of Oz'),\n",
                " (4, 'Ben', 'Mad Scientist'),\n",
                " (5, 'Dave', 'Analytics Heretic'),\n",
                " (6, 'Ken', 'The YouTuber')\n",
                ")\n",
                "SELECT * FROM input_data;\n",
                "\n",
                "DROP TABLE IF EXISTS jobs;\n",
                "CREATE TEMP TABLE jobs AS\n",
                "WITH input_data (iid, occupation, salary) AS (\n",
                " VALUES\n",
                " (1, 'Cleaner', 'High'),\n",
                " (2, 'Janitor', 'Medium'),\n",
                " (3, 'Monkey', 'Low'),\n",
                " (6, 'Plumber', 'Ultra'),\n",
                " (7, 'Hero', 'Plus Ultra')\n",
                ")\n",
                "SELECT * FROM input_data;"
            ],
            "metadata": {
                "azdata_cell_guid": "cf2357db-f065-4faa-a8ed-8f2804ae329a",
                "language": "sql"
            },
            "outputs": [
                {
                    "output_type": "display_data",
                    "data": {
                        "text/html": "NOTICE:  table \"names\" does not exist, skipping\n"
                    },
                    "metadata": {}
                },
                {
                    "output_type": "display_data",
                    "data": {
                        "text/html": "Commands completed successfully"
                    },
                    "metadata": {}
                },
                {
                    "output_type": "display_data",
                    "data": {
                        "text/html": "Commands completed successfully"
                    },
                    "metadata": {}
                },
                {
                    "output_type": "display_data",
                    "data": {
                        "text/html": "NOTICE:  table \"jobs\" does not exist, skipping\n"
                    },
                    "metadata": {}
                },
                {
                    "output_type": "display_data",
                    "data": {
                        "text/html": "Commands completed successfully"
                    },
                    "metadata": {}
                },
                {
                    "output_type": "display_data",
                    "data": {
                        "text/html": "Commands completed successfully"
                    },
                    "metadata": {}
                },
                {
                    "output_type": "display_data",
                    "data": {
                        "text/html": "Total execution time: 00:00:00.054"
                    },
                    "metadata": {}
                }
            ],
            "execution_count": 1
        },
        {
            "cell_type": "code",
            "source": [
                "SELECT * \n",
                "FROM names; \n",
                "\n",
                "SELECT * \n",
                "FROM jobs; "
            ],
            "metadata": {
                "language": "sql",
                "azdata_cell_guid": "9f066b64-1639-4d13-9eaf-5826cfe35963"
            },
            "outputs": [
                {
                    "output_type": "display_data",
                    "data": {
                        "text/html": "(6 row(s) affected)"
                    },
                    "metadata": {}
                },
                {
                    "output_type": "display_data",
                    "data": {
                        "text/html": "(5 row(s) affected)"
                    },
                    "metadata": {}
                },
                {
                    "output_type": "display_data",
                    "data": {
                        "text/html": "Total execution time: 00:00:00.031"
                    },
                    "metadata": {}
                },
                {
                    "output_type": "execute_result",
                    "metadata": {},
                    "execution_count": 3,
                    "data": {
                        "application/vnd.dataresource+json": {
                            "schema": {
                                "fields": [
                                    {
                                        "name": "iid"
                                    },
                                    {
                                        "name": "first_name"
                                    },
                                    {
                                        "name": "title"
                                    }
                                ]
                            },
                            "data": [
                                {
                                    "0": "1",
                                    "1": "Kate",
                                    "2": "Datacated Visualizer"
                                },
                                {
                                    "0": "2",
                                    "1": "Eric",
                                    "2": "Captain SQL"
                                },
                                {
                                    "0": "3",
                                    "1": "Danny",
                                    "2": "Data Wizard Of Oz"
                                },
                                {
                                    "0": "4",
                                    "1": "Ben",
                                    "2": "Mad Scientist"
                                },
                                {
                                    "0": "5",
                                    "1": "Dave",
                                    "2": "Analytics Heretic"
                                },
                                {
                                    "0": "6",
                                    "1": "Ken",
                                    "2": "The YouTuber"
                                }
                            ]
                        },
                        "text/html": [
                            "<table>",
                            "<tr><th>iid</th><th>first_name</th><th>title</th></tr>",
                            "<tr><td>1</td><td>Kate</td><td>Datacated Visualizer</td></tr>",
                            "<tr><td>2</td><td>Eric</td><td>Captain SQL</td></tr>",
                            "<tr><td>3</td><td>Danny</td><td>Data Wizard Of Oz</td></tr>",
                            "<tr><td>4</td><td>Ben</td><td>Mad Scientist</td></tr>",
                            "<tr><td>5</td><td>Dave</td><td>Analytics Heretic</td></tr>",
                            "<tr><td>6</td><td>Ken</td><td>The YouTuber</td></tr>",
                            "</table>"
                        ]
                    }
                },
                {
                    "output_type": "execute_result",
                    "metadata": {},
                    "execution_count": 3,
                    "data": {
                        "application/vnd.dataresource+json": {
                            "schema": {
                                "fields": [
                                    {
                                        "name": "iid"
                                    },
                                    {
                                        "name": "occupation"
                                    },
                                    {
                                        "name": "salary"
                                    }
                                ]
                            },
                            "data": [
                                {
                                    "0": "1",
                                    "1": "Cleaner",
                                    "2": "High"
                                },
                                {
                                    "0": "2",
                                    "1": "Janitor",
                                    "2": "Medium"
                                },
                                {
                                    "0": "3",
                                    "1": "Monkey",
                                    "2": "Low"
                                },
                                {
                                    "0": "6",
                                    "1": "Plumber",
                                    "2": "Ultra"
                                },
                                {
                                    "0": "7",
                                    "1": "Hero",
                                    "2": "Plus Ultra"
                                }
                            ]
                        },
                        "text/html": [
                            "<table>",
                            "<tr><th>iid</th><th>occupation</th><th>salary</th></tr>",
                            "<tr><td>1</td><td>Cleaner</td><td>High</td></tr>",
                            "<tr><td>2</td><td>Janitor</td><td>Medium</td></tr>",
                            "<tr><td>3</td><td>Monkey</td><td>Low</td></tr>",
                            "<tr><td>6</td><td>Plumber</td><td>Ultra</td></tr>",
                            "<tr><td>7</td><td>Hero</td><td>Plus Ultra</td></tr>",
                            "</table>"
                        ]
                    }
                }
            ],
            "execution_count": 3
        },
        {
            "cell_type": "markdown",
            "source": [
                "### **Inner Join**"
            ],
            "metadata": {
                "language": "sql",
                "azdata_cell_guid": "2a87e3a0-60c3-4bfc-af6e-71b3569286e7"
            },
            "attachments": {}
        },
        {
            "cell_type": "code",
            "source": [
                "-- Inner Join\n",
                "SELECT\n",
                "  names.iid,\n",
                "  names.first_name,\n",
                "  names.title,\n",
                "  jobs.occupation,\n",
                "  jobs.salary\n",
                "FROM names\n",
                "INNER JOIN jobs\n",
                "  ON names.iid = jobs.iid;"
            ],
            "metadata": {
                "azdata_cell_guid": "8dab0a6f-20e2-4170-8b10-10a91468d570",
                "language": "sql"
            },
            "outputs": [
                {
                    "output_type": "display_data",
                    "data": {
                        "text/html": "(4 row(s) affected)"
                    },
                    "metadata": {}
                },
                {
                    "output_type": "display_data",
                    "data": {
                        "text/html": "Total execution time: 00:00:00.027"
                    },
                    "metadata": {}
                },
                {
                    "output_type": "execute_result",
                    "metadata": {},
                    "execution_count": 2,
                    "data": {
                        "application/vnd.dataresource+json": {
                            "schema": {
                                "fields": [
                                    {
                                        "name": "iid"
                                    },
                                    {
                                        "name": "first_name"
                                    },
                                    {
                                        "name": "title"
                                    },
                                    {
                                        "name": "occupation"
                                    },
                                    {
                                        "name": "salary"
                                    }
                                ]
                            },
                            "data": [
                                {
                                    "0": "1",
                                    "1": "Kate",
                                    "2": "Datacated Visualizer",
                                    "3": "Cleaner",
                                    "4": "High"
                                },
                                {
                                    "0": "2",
                                    "1": "Eric",
                                    "2": "Captain SQL",
                                    "3": "Janitor",
                                    "4": "Medium"
                                },
                                {
                                    "0": "3",
                                    "1": "Danny",
                                    "2": "Data Wizard Of Oz",
                                    "3": "Monkey",
                                    "4": "Low"
                                },
                                {
                                    "0": "6",
                                    "1": "Ken",
                                    "2": "The YouTuber",
                                    "3": "Plumber",
                                    "4": "Ultra"
                                }
                            ]
                        },
                        "text/html": [
                            "<table>",
                            "<tr><th>iid</th><th>first_name</th><th>title</th><th>occupation</th><th>salary</th></tr>",
                            "<tr><td>1</td><td>Kate</td><td>Datacated Visualizer</td><td>Cleaner</td><td>High</td></tr>",
                            "<tr><td>2</td><td>Eric</td><td>Captain SQL</td><td>Janitor</td><td>Medium</td></tr>",
                            "<tr><td>3</td><td>Danny</td><td>Data Wizard Of Oz</td><td>Monkey</td><td>Low</td></tr>",
                            "<tr><td>6</td><td>Ken</td><td>The YouTuber</td><td>Plumber</td><td>Ultra</td></tr>",
                            "</table>"
                        ]
                    }
                }
            ],
            "execution_count": 2
        },
        {
            "cell_type": "markdown",
            "source": [
                "### **Table & Column References**"
            ],
            "metadata": {
                "azdata_cell_guid": "2468c9b8-305e-49ce-b8d5-5a29c56e9fcc"
            },
            "attachments": {}
        },
        {
            "cell_type": "code",
            "source": [
                "SELECT\n",
                "  names.iid,\n",
                "  names.first_name,\n",
                "  names.title,\n",
                "  jobs.occupation,\n",
                "  jobs.salary\n",
                "FROM names\n",
                "INNER JOIN jobs\n",
                "  ON names.iid = jobs.iid;\n",
                "\n",
                "/* Notice how all columns and their tables are listed out in \n",
                "\tSELECT query */"
            ],
            "metadata": {
                "azdata_cell_guid": "9782e157-51e3-4d56-9d6d-e280e897396d",
                "language": "sql"
            },
            "outputs": [
                {
                    "output_type": "display_data",
                    "data": {
                        "text/html": "(4 row(s) affected)"
                    },
                    "metadata": {}
                },
                {
                    "output_type": "display_data",
                    "data": {
                        "text/html": "Total execution time: 00:00:00.017"
                    },
                    "metadata": {}
                },
                {
                    "output_type": "execute_result",
                    "metadata": {},
                    "execution_count": 4,
                    "data": {
                        "application/vnd.dataresource+json": {
                            "schema": {
                                "fields": [
                                    {
                                        "name": "iid"
                                    },
                                    {
                                        "name": "first_name"
                                    },
                                    {
                                        "name": "title"
                                    },
                                    {
                                        "name": "occupation"
                                    },
                                    {
                                        "name": "salary"
                                    }
                                ]
                            },
                            "data": [
                                {
                                    "0": "1",
                                    "1": "Kate",
                                    "2": "Datacated Visualizer",
                                    "3": "Cleaner",
                                    "4": "High"
                                },
                                {
                                    "0": "2",
                                    "1": "Eric",
                                    "2": "Captain SQL",
                                    "3": "Janitor",
                                    "4": "Medium"
                                },
                                {
                                    "0": "3",
                                    "1": "Danny",
                                    "2": "Data Wizard Of Oz",
                                    "3": "Monkey",
                                    "4": "Low"
                                },
                                {
                                    "0": "6",
                                    "1": "Ken",
                                    "2": "The YouTuber",
                                    "3": "Plumber",
                                    "4": "Ultra"
                                }
                            ]
                        },
                        "text/html": [
                            "<table>",
                            "<tr><th>iid</th><th>first_name</th><th>title</th><th>occupation</th><th>salary</th></tr>",
                            "<tr><td>1</td><td>Kate</td><td>Datacated Visualizer</td><td>Cleaner</td><td>High</td></tr>",
                            "<tr><td>2</td><td>Eric</td><td>Captain SQL</td><td>Janitor</td><td>Medium</td></tr>",
                            "<tr><td>3</td><td>Danny</td><td>Data Wizard Of Oz</td><td>Monkey</td><td>Low</td></tr>",
                            "<tr><td>6</td><td>Ken</td><td>The YouTuber</td><td>Plumber</td><td>Ultra</td></tr>",
                            "</table>"
                        ]
                    }
                }
            ],
            "execution_count": 4
        },
        {
            "cell_type": "markdown",
            "source": [
                "#### `SELECT *`"
            ],
            "metadata": {
                "azdata_cell_guid": "bd9e28ec-74f7-443f-b8ea-a44836ed862e"
            },
            "attachments": {}
        },
        {
            "cell_type": "code",
            "source": [
                "-- 1. Using SELECT * \n",
                "SELECT *\n",
                "FROM names\n",
                "INNER JOIN jobs\n",
                "  ON names.iid = jobs.iid;"
            ],
            "metadata": {
                "azdata_cell_guid": "d42d1de6-fcd7-4801-8ae3-eeca2d2973f5",
                "language": "sql"
            },
            "outputs": [
                {
                    "output_type": "display_data",
                    "data": {
                        "text/html": "(4 row(s) affected)"
                    },
                    "metadata": {}
                },
                {
                    "output_type": "display_data",
                    "data": {
                        "text/html": "Total execution time: 00:00:00.044"
                    },
                    "metadata": {}
                },
                {
                    "output_type": "execute_result",
                    "metadata": {},
                    "execution_count": 5,
                    "data": {
                        "application/vnd.dataresource+json": {
                            "schema": {
                                "fields": [
                                    {
                                        "name": "iid"
                                    },
                                    {
                                        "name": "first_name"
                                    },
                                    {
                                        "name": "title"
                                    },
                                    {
                                        "name": "iid"
                                    },
                                    {
                                        "name": "occupation"
                                    },
                                    {
                                        "name": "salary"
                                    }
                                ]
                            },
                            "data": [
                                {
                                    "0": "1",
                                    "1": "Kate",
                                    "2": "Datacated Visualizer",
                                    "3": "1",
                                    "4": "Cleaner",
                                    "5": "High"
                                },
                                {
                                    "0": "2",
                                    "1": "Eric",
                                    "2": "Captain SQL",
                                    "3": "2",
                                    "4": "Janitor",
                                    "5": "Medium"
                                },
                                {
                                    "0": "3",
                                    "1": "Danny",
                                    "2": "Data Wizard Of Oz",
                                    "3": "3",
                                    "4": "Monkey",
                                    "5": "Low"
                                },
                                {
                                    "0": "6",
                                    "1": "Ken",
                                    "2": "The YouTuber",
                                    "3": "6",
                                    "4": "Plumber",
                                    "5": "Ultra"
                                }
                            ]
                        },
                        "text/html": [
                            "<table>",
                            "<tr><th>iid</th><th>first_name</th><th>title</th><th>iid</th><th>occupation</th><th>salary</th></tr>",
                            "<tr><td>1</td><td>Kate</td><td>Datacated Visualizer</td><td>1</td><td>Cleaner</td><td>High</td></tr>",
                            "<tr><td>2</td><td>Eric</td><td>Captain SQL</td><td>2</td><td>Janitor</td><td>Medium</td></tr>",
                            "<tr><td>3</td><td>Danny</td><td>Data Wizard Of Oz</td><td>3</td><td>Monkey</td><td>Low</td></tr>",
                            "<tr><td>6</td><td>Ken</td><td>The YouTuber</td><td>6</td><td>Plumber</td><td>Ultra</td></tr>",
                            "</table>"
                        ]
                    }
                }
            ],
            "execution_count": 5
        },
        {
            "cell_type": "markdown",
            "source": [
                "#### `SELECT table.*`"
            ],
            "metadata": {
                "language": "sql",
                "azdata_cell_guid": "25895007-1adb-4d5e-8d4f-e1b4b3ad5f29"
            },
            "attachments": {}
        },
        {
            "cell_type": "code",
            "source": [
                "-- 2. Using SELECT table.*\n",
                "SELECT\n",
                "  names.*,\n",
                "  jobs.*\n",
                "FROM names\n",
                "INNER JOIN jobs\n",
                "  ON names.iid = jobs.iid;"
            ],
            "metadata": {
                "language": "sql",
                "azdata_cell_guid": "fb36d4a0-7ae1-49f2-8e77-050a598821b4"
            },
            "outputs": [
                {
                    "output_type": "display_data",
                    "data": {
                        "text/html": "(4 row(s) affected)"
                    },
                    "metadata": {}
                },
                {
                    "output_type": "display_data",
                    "data": {
                        "text/html": "Total execution time: 00:00:00.017"
                    },
                    "metadata": {}
                },
                {
                    "output_type": "execute_result",
                    "metadata": {},
                    "execution_count": 6,
                    "data": {
                        "application/vnd.dataresource+json": {
                            "schema": {
                                "fields": [
                                    {
                                        "name": "iid"
                                    },
                                    {
                                        "name": "first_name"
                                    },
                                    {
                                        "name": "title"
                                    },
                                    {
                                        "name": "iid"
                                    },
                                    {
                                        "name": "occupation"
                                    },
                                    {
                                        "name": "salary"
                                    }
                                ]
                            },
                            "data": [
                                {
                                    "0": "1",
                                    "1": "Kate",
                                    "2": "Datacated Visualizer",
                                    "3": "1",
                                    "4": "Cleaner",
                                    "5": "High"
                                },
                                {
                                    "0": "2",
                                    "1": "Eric",
                                    "2": "Captain SQL",
                                    "3": "2",
                                    "4": "Janitor",
                                    "5": "Medium"
                                },
                                {
                                    "0": "3",
                                    "1": "Danny",
                                    "2": "Data Wizard Of Oz",
                                    "3": "3",
                                    "4": "Monkey",
                                    "5": "Low"
                                },
                                {
                                    "0": "6",
                                    "1": "Ken",
                                    "2": "The YouTuber",
                                    "3": "6",
                                    "4": "Plumber",
                                    "5": "Ultra"
                                }
                            ]
                        },
                        "text/html": [
                            "<table>",
                            "<tr><th>iid</th><th>first_name</th><th>title</th><th>iid</th><th>occupation</th><th>salary</th></tr>",
                            "<tr><td>1</td><td>Kate</td><td>Datacated Visualizer</td><td>1</td><td>Cleaner</td><td>High</td></tr>",
                            "<tr><td>2</td><td>Eric</td><td>Captain SQL</td><td>2</td><td>Janitor</td><td>Medium</td></tr>",
                            "<tr><td>3</td><td>Danny</td><td>Data Wizard Of Oz</td><td>3</td><td>Monkey</td><td>Low</td></tr>",
                            "<tr><td>6</td><td>Ken</td><td>The YouTuber</td><td>6</td><td>Plumber</td><td>Ultra</td></tr>",
                            "</table>"
                        ]
                    }
                }
            ],
            "execution_count": 6
        },
        {
            "cell_type": "markdown",
            "source": [
                "#### No Table References"
            ],
            "metadata": {
                "language": "sql",
                "azdata_cell_guid": "ddb726ed-2adb-4789-90db-d3e99156f433"
            },
            "attachments": {}
        },
        {
            "cell_type": "code",
            "source": [
                "-- 3. No table references used \n",
                "SELECT\n",
                "  iid,\n",
                "  first_name,\n",
                "  title,\n",
                "  occupation,\n",
                "  salary\n",
                "FROM names\n",
                "INNER JOIN jobs\n",
                "  ON names.iid = jobs.iid;"
            ],
            "metadata": {
                "language": "sql",
                "azdata_cell_guid": "68fe9738-ebfd-43bf-88ac-8c50f80b3f3e"
            },
            "outputs": [
                {
                    "output_type": "error",
                    "evalue": "column reference \"iid\" is ambiguous",
                    "ename": "",
                    "traceback": []
                },
                {
                    "output_type": "display_data",
                    "data": {
                        "text/html": "Total execution time: 00:00:00.009"
                    },
                    "metadata": {}
                }
            ],
            "execution_count": 7
        },
        {
            "cell_type": "markdown",
            "source": [
                "#### <mark>Proper Table References</mark>"
            ],
            "metadata": {
                "language": "sql",
                "azdata_cell_guid": "dc651560-9ea6-4d42-bd4b-1604c27cbbc6"
            },
            "attachments": {}
        },
        {
            "cell_type": "code",
            "source": [
                "-- 4. Proper table references used \n",
                "SELECT\n",
                "  names.iid,\n",
                "  names.first_name,\n",
                "  names.title,\n",
                "  jobs.occupation,\n",
                "  jobs.salary\n",
                "FROM names\n",
                "INNER JOIN jobs\n",
                "  ON names.iid = jobs.iid;"
            ],
            "metadata": {
                "language": "sql",
                "azdata_cell_guid": "e91fd76f-4bf7-4826-ae08-753e1f276de8"
            },
            "outputs": [
                {
                    "output_type": "display_data",
                    "data": {
                        "text/html": "(4 row(s) affected)"
                    },
                    "metadata": {}
                },
                {
                    "output_type": "display_data",
                    "data": {
                        "text/html": "Total execution time: 00:00:00.027"
                    },
                    "metadata": {}
                },
                {
                    "output_type": "execute_result",
                    "metadata": {},
                    "execution_count": 8,
                    "data": {
                        "application/vnd.dataresource+json": {
                            "schema": {
                                "fields": [
                                    {
                                        "name": "iid"
                                    },
                                    {
                                        "name": "first_name"
                                    },
                                    {
                                        "name": "title"
                                    },
                                    {
                                        "name": "occupation"
                                    },
                                    {
                                        "name": "salary"
                                    }
                                ]
                            },
                            "data": [
                                {
                                    "0": "1",
                                    "1": "Kate",
                                    "2": "Datacated Visualizer",
                                    "3": "Cleaner",
                                    "4": "High"
                                },
                                {
                                    "0": "2",
                                    "1": "Eric",
                                    "2": "Captain SQL",
                                    "3": "Janitor",
                                    "4": "Medium"
                                },
                                {
                                    "0": "3",
                                    "1": "Danny",
                                    "2": "Data Wizard Of Oz",
                                    "3": "Monkey",
                                    "4": "Low"
                                },
                                {
                                    "0": "6",
                                    "1": "Ken",
                                    "2": "The YouTuber",
                                    "3": "Plumber",
                                    "4": "Ultra"
                                }
                            ]
                        },
                        "text/html": [
                            "<table>",
                            "<tr><th>iid</th><th>first_name</th><th>title</th><th>occupation</th><th>salary</th></tr>",
                            "<tr><td>1</td><td>Kate</td><td>Datacated Visualizer</td><td>Cleaner</td><td>High</td></tr>",
                            "<tr><td>2</td><td>Eric</td><td>Captain SQL</td><td>Janitor</td><td>Medium</td></tr>",
                            "<tr><td>3</td><td>Danny</td><td>Data Wizard Of Oz</td><td>Monkey</td><td>Low</td></tr>",
                            "<tr><td>6</td><td>Ken</td><td>The YouTuber</td><td>Plumber</td><td>Ultra</td></tr>",
                            "</table>"
                        ]
                    }
                }
            ],
            "execution_count": 8
        }
    ]
}